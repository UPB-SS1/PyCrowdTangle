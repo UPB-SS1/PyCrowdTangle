{
  "cells": [
    {
      "cell_type": "markdown",
      "metadata": {
        "id": "aEZvWaoKc_Sd",
        "colab_type": "text"
      },
      "source": [
        "# PyCrowdTangle Examples\n",
        "\n",
        "**Pypi:** https://pypi.org/project/PyCrowdTangle/\n",
        "\n",
        "**Github:** https://github.com/UPB-SS1/PyCrowdTangle\n",
        "\n",
        "by\n",
        "\n",
        "Jose R. Zapata - https://joserzapata.github.io/"
      ]
    },
    {
      "cell_type": "markdown",
      "metadata": {
        "id": "LIIErpPSdq98",
        "colab_type": "text"
      },
      "source": [
        "Install PycrowdTangle in Google Colab"
      ]
    },
    {
      "cell_type": "code",
      "metadata": {
        "id": "ShWpcUEJ13U1",
        "colab_type": "code",
        "colab": {}
      },
      "source": [
        "!pip install PyCrowdTangle -q"
      ],
      "execution_count": 2,
      "outputs": []
    },
    {
      "cell_type": "markdown",
      "metadata": {
        "id": "9pH2_aOzdzGc",
        "colab_type": "text"
      },
      "source": [
        "Import Libraries"
      ]
    },
    {
      "cell_type": "code",
      "metadata": {
        "id": "s9MCEOeG2DK4",
        "colab_type": "code",
        "colab": {}
      },
      "source": [
        "import PyCrowdTangle as pct\n",
        "import pandas as pd"
      ],
      "execution_count": 3,
      "outputs": []
    },
    {
      "cell_type": "code",
      "metadata": {
        "id": "RfGgwkMLaAg8",
        "colab_type": "code",
        "colab": {
          "base_uri": "https://localhost:8080/",
          "height": 287
        },
        "outputId": "b7460134-67be-4892-9754-9695e477723b"
      },
      "source": [
        "dir(pct)"
      ],
      "execution_count": 4,
      "outputs": [
        {
          "output_type": "execute_result",
          "data": {
            "text/plain": [
              "['PyCrowdTangle',\n",
              " '__author__',\n",
              " '__builtins__',\n",
              " '__cached__',\n",
              " '__doc__',\n",
              " '__file__',\n",
              " '__loader__',\n",
              " '__name__',\n",
              " '__package__',\n",
              " '__path__',\n",
              " '__spec__',\n",
              " '__version__',\n",
              " 'ct_get_links',\n",
              " 'ct_get_lists',\n",
              " 'ct_get_posts']"
            ]
          },
          "metadata": {
            "tags": []
          },
          "execution_count": 4
        }
      ]
    },
    {
      "cell_type": "code",
      "metadata": {
        "id": "RYJSkFY6a2J8",
        "colab_type": "code",
        "colab": {
          "base_uri": "https://localhost:8080/",
          "height": 36
        },
        "outputId": "ce008c29-ca13-4e8b-df3a-c21fc972839e"
      },
      "source": [
        "# get version\n",
        "pct.__version__"
      ],
      "execution_count": 5,
      "outputs": [
        {
          "output_type": "execute_result",
          "data": {
            "application/vnd.google.colaboratory.intrinsic": {
              "type": "string"
            },
            "text/plain": [
              "'0.1.0'"
            ]
          },
          "metadata": {
            "tags": []
          },
          "execution_count": 5
        }
      ]
    },
    {
      "cell_type": "code",
      "metadata": {
        "id": "k0o8rSlKaP-W",
        "colab_type": "code",
        "colab": {}
      },
      "source": [
        "# get the api_token from https://apps.crowdtangle.com/\n",
        "# you can locate your API token via your crowdtangle dashboard\n",
        "# under Settings > API Access.\n",
        "token=\"\""
      ],
      "execution_count": 6,
      "outputs": []
    },
    {
      "cell_type": "markdown",
      "metadata": {
        "id": "hI800KY5eDhk",
        "colab_type": "text"
      },
      "source": [
        "## ct_get_posts"
      ]
    },
    {
      "cell_type": "code",
      "metadata": {
        "id": "Hx7_WGE8flqP",
        "colab_type": "code",
        "colab": {
          "base_uri": "https://localhost:8080/",
          "height": 395
        },
        "outputId": "72503dfd-d8e3-47fa-c745-897e85123b34"
      },
      "source": [
        "print(pct.ct_get_posts.__doc__)"
      ],
      "execution_count": 9,
      "outputs": [
        {
          "output_type": "stream",
          "text": [
            "Retrieve a set of posts for the given parameters get post from crowdtangle \n",
            "\n",
            "    Args:\n",
            "        count (int, optional): The number of posts to return. Defaults to 100. options [1-100]\n",
            "        start_date (str, optional): The earliest date at which a post could be posted. Time zone is UTC. \n",
            "                                    Format is “yyyy-mm-ddThh:mm:ss” or “yyyy-mm-dd” \n",
            "                                    (defaults to time 00:00:00).\n",
            "        end_date (str, optional): The latest date at which a post could be posted.\n",
            "                                  Time zone is UTC. Format is “yyyy-mm-ddThh:mm:ss”\n",
            "                                  or “yyyy-mm-dd” (defaults to time 00:00:00).\n",
            "                                  Defaults to \"now\".\n",
            "        api_token (str, optional): you can locate your API token via your crowdtangle dashboard\n",
            "                                   under Settings > API Access.\n",
            "    Returns:\n",
            "        [dict]: The Response contains both a status code and a result. The status will always\n",
            "                be 200 if there is no error. The result contains an array of post objects and\n",
            "                a pagination object with URLs for both the next and previous page, if they exist\n",
            "\n",
            "    Example:\n",
            "        ct_get_posts(api_token=\"AKJHXDFYTGEBKRJ6535\")                    \n",
            "    \n"
          ],
          "name": "stdout"
        }
      ]
    },
    {
      "cell_type": "code",
      "metadata": {
        "id": "fw9YGu-M2bw8",
        "colab_type": "code",
        "colab": {}
      },
      "source": [
        "data = pct.ct_get_posts(count=10, start_date=\"2019-01-01\", end_date=\"2020-01-01\" ,api_token=token)"
      ],
      "execution_count": 19,
      "outputs": []
    },
    {
      "cell_type": "code",
      "metadata": {
        "id": "9yIrXZX32pR7",
        "colab_type": "code",
        "colab": {}
      },
      "source": [
        "df = pd.DataFrame(data['result']['posts'])\n",
        "df.head()"
      ],
      "execution_count": null,
      "outputs": []
    },
    {
      "cell_type": "markdown",
      "metadata": {
        "id": "pkKKH6i2fYud",
        "colab_type": "text"
      },
      "source": [
        "## get links"
      ]
    },
    {
      "cell_type": "code",
      "metadata": {
        "id": "bGh4Gt5mh0z-",
        "colab_type": "code",
        "colab": {
          "base_uri": "https://localhost:8080/",
          "height": 556
        },
        "outputId": "8130b880-b7f2-4993-acc0-ae956628fba0"
      },
      "source": [
        "print(pct.ct_get_links.__doc__)"
      ],
      "execution_count": 22,
      "outputs": [
        {
          "output_type": "stream",
          "text": [
            " Retrieve a set of posts matching a certain link.\n",
            "\n",
            "    Args:\n",
            "        link ([type]): [description]\n",
            "        platforms (str, optional): The platforms from which to retrieve links. This value can be comma-separated.\n",
            "                                   options: facebook, instagram, reddit. Defaults to 'facebook'.\n",
            "        count (int, optional): The number of posts to return. Defaults to 100. options [1-100]\n",
            "        start_date (str, optional): The earliest date at which a post could be posted. Time zone is UTC. \n",
            "                                    Format is “yyyy-mm-ddThh:mm:ss” or “yyyy-mm-dd” \n",
            "                                    (defaults to time 00:00:00).\n",
            "        end_date (str, optional):  The latest date at which a post could be posted.\n",
            "                                  Time zone is UTC. Format is “yyyy-mm-ddThh:mm:ss”\n",
            "                                  or “yyyy-mm-dd” (defaults to time 00:00:00).\n",
            "                                  Defaults to \"now\".\n",
            "        api_token (str, optional): you can locate your API token via your crowdtangle dashboard\n",
            "                                   under Settings > API Access.\n",
            "\n",
            "    Raises:\n",
            "        ValueError: \"link was empty\"\n",
            "        ValueError: \"api_token variable is empty\"\n",
            "\n",
            "    Returns:\n",
            "        [dict]: The Response contains both a status code and a result. The status will always\n",
            "                be 200 if there is no error. The result contains an array of post objects and\n",
            "                a pagination object with URLs for both the next and previous page, if they exist\n",
            "    \n",
            "    Example:\n",
            "        ct_get_links(link= 'http://www.queenonline.com/', platforms='facebook',\n",
            "                     start_date='2019-01-01',api_token=\"AKJHXDFYTGEBKRJ6535\")\n",
            "    \n"
          ],
          "name": "stdout"
        }
      ]
    },
    {
      "cell_type": "code",
      "metadata": {
        "id": "GD7Zv_Fmjch3",
        "colab_type": "code",
        "colab": {}
      },
      "source": [
        "data = pct.ct_get_links(link= 'http://www.queenonline.com/', platforms='facebook',\n",
        "                     start_date='2019-01-01',api_token=token)"
      ],
      "execution_count": 23,
      "outputs": []
    },
    {
      "cell_type": "code",
      "metadata": {
        "id": "T8lrdqpmaZsV",
        "colab_type": "code",
        "colab": {
          "base_uri": "https://localhost:8080/",
          "height": 648
        },
        "outputId": "1485a8f5-728b-42dd-ac6f-c6f48b5cdf55"
      },
      "source": [
        "df = pd.DataFrame(data['result']['posts'])\n",
        "df.head()"
      ],
      "execution_count": 24,
      "outputs": [
        {
          "output_type": "execute_result",
          "data": {
            "text/html": [
              "<div>\n",
              "<style scoped>\n",
              "    .dataframe tbody tr th:only-of-type {\n",
              "        vertical-align: middle;\n",
              "    }\n",
              "\n",
              "    .dataframe tbody tr th {\n",
              "        vertical-align: top;\n",
              "    }\n",
              "\n",
              "    .dataframe thead th {\n",
              "        text-align: right;\n",
              "    }\n",
              "</style>\n",
              "<table border=\"1\" class=\"dataframe\">\n",
              "  <thead>\n",
              "    <tr style=\"text-align: right;\">\n",
              "      <th></th>\n",
              "      <th>id</th>\n",
              "      <th>platformId</th>\n",
              "      <th>platform</th>\n",
              "      <th>date</th>\n",
              "      <th>updated</th>\n",
              "      <th>type</th>\n",
              "      <th>message</th>\n",
              "      <th>expandedLinks</th>\n",
              "      <th>link</th>\n",
              "      <th>postUrl</th>\n",
              "      <th>subscriberCount</th>\n",
              "      <th>score</th>\n",
              "      <th>media</th>\n",
              "      <th>statistics</th>\n",
              "      <th>account</th>\n",
              "      <th>description</th>\n",
              "      <th>imageText</th>\n",
              "      <th>title</th>\n",
              "      <th>caption</th>\n",
              "      <th>videoLengthMS</th>\n",
              "    </tr>\n",
              "  </thead>\n",
              "  <tbody>\n",
              "    <tr>\n",
              "      <th>0</th>\n",
              "      <td>99430680788</td>\n",
              "      <td>100443263855_10158724894048856</td>\n",
              "      <td>Facebook</td>\n",
              "      <td>2020-06-30 17:45:00</td>\n",
              "      <td>2020-07-01 13:03:26</td>\n",
              "      <td>photo</td>\n",
              "      <td>Queen released \"The Game\" on this date in 1980...</td>\n",
              "      <td>[{'original': 'http://www.queenonline.com/news...</td>\n",
              "      <td>https://www.facebook.com/961KLPX/photos/a.4933...</td>\n",
              "      <td>https://www.facebook.com/961KLPX/posts/1015872...</td>\n",
              "      <td>12175</td>\n",
              "      <td>-34.000000</td>\n",
              "      <td>[{'type': 'photo', 'url': 'https://scontent-se...</td>\n",
              "      <td>{'actual': {'likeCount': 1, 'shareCount': 0, '...</td>\n",
              "      <td>{'id': 38485, 'name': '96.1 FM KLPX', 'handle'...</td>\n",
              "      <td>NaN</td>\n",
              "      <td>NaN</td>\n",
              "      <td>NaN</td>\n",
              "      <td>NaN</td>\n",
              "      <td>NaN</td>\n",
              "    </tr>\n",
              "    <tr>\n",
              "      <th>1</th>\n",
              "      <td>99429842902</td>\n",
              "      <td>1640091089573395_2612640178985143</td>\n",
              "      <td>Facebook</td>\n",
              "      <td>2020-06-30 17:32:26</td>\n",
              "      <td>2020-07-01 12:49:41</td>\n",
              "      <td>photo</td>\n",
              "      <td>NaN</td>\n",
              "      <td>[{'original': 'www.queenonline.com', 'expanded...</td>\n",
              "      <td>https://www.facebook.com/fredmercury4691/photo...</td>\n",
              "      <td>https://www.facebook.com/groups/16400910895733...</td>\n",
              "      <td>11846</td>\n",
              "      <td>-1.428571</td>\n",
              "      <td>[{'type': 'photo', 'url': 'https://scontent-se...</td>\n",
              "      <td>{'actual': {'likeCount': 31, 'shareCount': 1, ...</td>\n",
              "      <td>{'id': 11039931, 'name': 'Friends who like Que...</td>\n",
              "      <td>On this Day - June 30th, 1980\\n\\nQueen release...</td>\n",
              "      <td>QUEEN The Game BIKE</td>\n",
              "      <td>NaN</td>\n",
              "      <td>NaN</td>\n",
              "      <td>NaN</td>\n",
              "    </tr>\n",
              "    <tr>\n",
              "      <th>2</th>\n",
              "      <td>99422328750</td>\n",
              "      <td>160078934042938_3328575570526576</td>\n",
              "      <td>Facebook</td>\n",
              "      <td>2020-06-30 15:53:37</td>\n",
              "      <td>2020-07-01 13:06:40</td>\n",
              "      <td>photo</td>\n",
              "      <td>+++ FREDDIE'S TOUR BOX +++ Tonight, on June 30...</td>\n",
              "      <td>[{'original': 'www.queenonline.com', 'expanded...</td>\n",
              "      <td>https://www.facebook.com/fredmercury4691/photo...</td>\n",
              "      <td>https://www.facebook.com/fredmercury4691/posts...</td>\n",
              "      <td>254496</td>\n",
              "      <td>-1.858974</td>\n",
              "      <td>[{'type': 'photo', 'url': 'https://scontent-se...</td>\n",
              "      <td>{'actual': {'likeCount': 168, 'shareCount': 8,...</td>\n",
              "      <td>{'id': 809895, 'name': 'Freddie Mercury Fanpag...</td>\n",
              "      <td>Today, on 30th June, 1980\\n\\nFINALLY ! Queen's...</td>\n",
              "      <td>NaN</td>\n",
              "      <td>NaN</td>\n",
              "      <td>NaN</td>\n",
              "      <td>NaN</td>\n",
              "    </tr>\n",
              "    <tr>\n",
              "      <th>3</th>\n",
              "      <td>99420688379</td>\n",
              "      <td>160078934042938_3328553647195435</td>\n",
              "      <td>Facebook</td>\n",
              "      <td>2020-06-30 15:45:06</td>\n",
              "      <td>2020-07-01 12:47:10</td>\n",
              "      <td>photo</td>\n",
              "      <td>On this Day - June 30th, 1980 Queen released t...</td>\n",
              "      <td>[{'original': 'www.queenonline.com', 'expanded...</td>\n",
              "      <td>https://www.facebook.com/fredmercury4691/photo...</td>\n",
              "      <td>https://www.facebook.com/fredmercury4691/posts...</td>\n",
              "      <td>254496</td>\n",
              "      <td>1.432184</td>\n",
              "      <td>[{'type': 'photo', 'url': 'https://scontent-se...</td>\n",
              "      <td>{'actual': {'likeCount': 457, 'shareCount': 25...</td>\n",
              "      <td>{'id': 809895, 'name': 'Freddie Mercury Fanpag...</td>\n",
              "      <td>NaN</td>\n",
              "      <td>QUEEN The Game BIKE</td>\n",
              "      <td>NaN</td>\n",
              "      <td>NaN</td>\n",
              "      <td>NaN</td>\n",
              "    </tr>\n",
              "    <tr>\n",
              "      <th>4</th>\n",
              "      <td>99419245149</td>\n",
              "      <td>134007246747480_1689792901168899</td>\n",
              "      <td>Facebook</td>\n",
              "      <td>2020-06-30 14:52:33</td>\n",
              "      <td>2020-07-01 13:10:07</td>\n",
              "      <td>photo</td>\n",
              "      <td>NaN</td>\n",
              "      <td>[{'original': 'http://www.queenonline.com/musi...</td>\n",
              "      <td>https://www.facebook.com/FreddieMercuryLegendA...</td>\n",
              "      <td>https://www.facebook.com/groups/13400724674748...</td>\n",
              "      <td>29671</td>\n",
              "      <td>-10.900000</td>\n",
              "      <td>[{'type': 'photo', 'url': 'https://scontent-se...</td>\n",
              "      <td>{'actual': {'likeCount': 10, 'shareCount': 0, ...</td>\n",
              "      <td>{'id': 7656511, 'name': 'Freddie Mercury - The...</td>\n",
              "      <td>Today, on June 30th, 1980 - Queen Story! \\n\"Th...</td>\n",
              "      <td>NaN</td>\n",
              "      <td>NaN</td>\n",
              "      <td>NaN</td>\n",
              "      <td>NaN</td>\n",
              "    </tr>\n",
              "  </tbody>\n",
              "</table>\n",
              "</div>"
            ],
            "text/plain": [
              "            id                         platformId  ... caption videoLengthMS\n",
              "0  99430680788     100443263855_10158724894048856  ...     NaN           NaN\n",
              "1  99429842902  1640091089573395_2612640178985143  ...     NaN           NaN\n",
              "2  99422328750   160078934042938_3328575570526576  ...     NaN           NaN\n",
              "3  99420688379   160078934042938_3328553647195435  ...     NaN           NaN\n",
              "4  99419245149   134007246747480_1689792901168899  ...     NaN           NaN\n",
              "\n",
              "[5 rows x 20 columns]"
            ]
          },
          "metadata": {
            "tags": []
          },
          "execution_count": 24
        }
      ]
    },
    {
      "cell_type": "markdown",
      "metadata": {
        "id": "Xv0fWxkYbsUB",
        "colab_type": "text"
      },
      "source": [
        "## ct_get_lists"
      ]
    },
    {
      "cell_type": "code",
      "metadata": {
        "id": "UV4ao_OTh6vU",
        "colab_type": "code",
        "colab": {
          "base_uri": "https://localhost:8080/",
          "height": 233
        },
        "outputId": "f9d7127d-9197-42dc-e7b4-184bba8059dd"
      },
      "source": [
        "print(pct.ct_get_lists.__doc__)"
      ],
      "execution_count": 25,
      "outputs": [
        {
          "output_type": "stream",
          "text": [
            "Retrieve the lists, saved searches and saved post lists of the dashboard associated with the token sent in\n",
            "\n",
            "    Args:\n",
            "        api_token (str, optional): you can locate your API token via your crowdtangle dashboard\n",
            "                                   under Settings > API Access.\n",
            "    Returns:\n",
            "        [dict]: The Response contains both a status code and a result. The status will always\n",
            "                be 200 if there is no error. The result contains an array of a lists objects\n",
            "\n",
            "    Example:\n",
            "        ct_get_lists(api_token=\"AKJHXDFYTGEBKRJ6535\")                    \n",
            "    \n"
          ],
          "name": "stdout"
        }
      ]
    },
    {
      "cell_type": "code",
      "metadata": {
        "id": "i5KwJNupbwuS",
        "colab_type": "code",
        "colab": {}
      },
      "source": [
        "data = pct.ct_get_lists(token)"
      ],
      "execution_count": 26,
      "outputs": []
    },
    {
      "cell_type": "code",
      "metadata": {
        "id": "p1H9hqdBb0pi",
        "colab_type": "code",
        "colab": {}
      },
      "source": [
        "print(data)"
      ],
      "execution_count": null,
      "outputs": []
    }
  ],
  "metadata": {
    "colab": {
      "name": "prueba_pycrowdtangle.ipynb",
      "provenance": [],
      "collapsed_sections": []
    },
    "kernelspec": {
      "name": "python3",
      "display_name": "Python 3"
    }
  },
  "nbformat": 4,
  "nbformat_minor": 0
}